{
 "cells": [
  {
   "cell_type": "code",
   "execution_count": 3,
   "metadata": {},
   "outputs": [
    {
     "data": {
      "image/png": "[encoded data removed]",
      "text/plain": [
       "<matplotlib.figure.Figure at 0x204eaa47780>"
      ]
     },
     "metadata": {},
     "output_type": "display_data"
    }
   ],
   "source": [
    "import matplotlib.pyplot as plt\n",
    "from matplotlib import style\n",
    "style.use('ggplot')\n",
    "import numpy as np\n",
    "\n",
    "X = np.array([[1, 2],\n",
    "              [1.5, 1.8],\n",
    "              [5, 8 ],\n",
    "              [8, 8],\n",
    "              [1, 0.6],\n",
    "              [9,11],\n",
    "              [8,2],\n",
    "              [10,2],\n",
    "              [9,3],])\n",
    "\n",
    "plt.scatter(X[:,0], X[:,1], s=150)\n",
    "plt.show()\n",
    "\n",
    "colors = 10*[\"g\",\"r\",\"c\",\"b\",\"k\"]"
   ]
  },
  {
   "cell_type": "markdown",
   "metadata": {},
   "source": [
    "Make all datapoints centroids\n",
    "Take mean of all featuresets within centroid's radius, setting this mean as new centroid.\n",
    "Repeat step #2 until convergence."
   ]
  },
  {
   "cell_type": "code",
   "execution_count": 16,
   "metadata": {},
   "outputs": [
    {
     "name": "stdout",
     "output_type": "stream",
     "text": [
      "------------------------------------------------\n",
      "[(1.1666666666666667, 1.4666666666666666), (5.0, 8.0), (8.0, 8.0), (9.0, 2.3333333333333335), (9.0, 11.0)]\n",
      "{0: array([1.16666667, 1.46666667]), 1: array([5., 8.]), 2: array([8., 8.]), 3: array([9.        , 2.33333333]), 4: array([ 9., 11.])}\n",
      "False\n",
      "False\n",
      "------------------------------------------------\n",
      "[(1.1666666666666667, 1.4666666666666666), (5.0, 8.0), (8.0, 8.0), (9.0, 2.3333333333333335), (9.0, 11.0)]\n",
      "{0: array([1.16666667, 1.46666667]), 1: array([5., 8.]), 2: array([8., 8.]), 3: array([9.        , 2.33333333]), 4: array([ 9., 11.])}\n"
     ]
    },
    {
     "data": {
      "image/png": "[encoded data removed]",
      "text/plain": [
       "<matplotlib.figure.Figure at 0x204ebc0e390>"
      ]
     },
     "metadata": {},
     "output_type": "display_data"
    }
   ],
   "source": [
    "import matplotlib.pyplot as plt\n",
    "from matplotlib import style\n",
    "style.use('ggplot')\n",
    "import numpy as np\n",
    "\n",
    "X = np.array([[1, 2],\n",
    "              [1.5, 1.8],\n",
    "              [5, 8 ],\n",
    "              [8, 8],\n",
    "              [1, 0.6],\n",
    "              [9,11],\n",
    "              [8,2],\n",
    "              [10,2],\n",
    "              [9,3],])\n",
    "\n",
    "##plt.scatter(X[:,0], X[:,1], s=150)\n",
    "##plt.show()\n",
    "\n",
    "colors = 10*[\"g\",\"r\",\"c\",\"b\",\"k\"]\n",
    "\n",
    "class Mean_Shift:\n",
    "    def __init__(self, radius=3):\n",
    "        self.radius = radius\n",
    "\n",
    "    def fit(self, data):\n",
    "        centroids = {}\n",
    "\n",
    "        for i in range(len(data)):\n",
    "            centroids[i] = data[i]\n",
    "        \n",
    "        while True:        \n",
    "            new_centroids = []\n",
    "            for i in centroids:\n",
    "                in_bandwidth = []\n",
    "                centroid = centroids[i]\n",
    "                for featureset in data:\n",
    "                    if np.linalg.norm(featureset-centroid) < self.radius:\n",
    "                        in_bandwidth.append(featureset)\n",
    "\n",
    "                new_centroid = np.average(in_bandwidth,axis=0)\n",
    "                new_centroids.append(tuple(new_centroid))\n",
    "\n",
    "            uniques = sorted(list(set(new_centroids)))\n",
    "            print(uniques)\n",
    "            prev_centroids = dict(centroids)\n",
    "            centroids = {}\n",
    "            for i in range(len(uniques)):\n",
    "                centroids[i] = np.array(uniques[i])\n",
    "            optimized = True\n",
    "            for i in centroids:\n",
    "                #if false then go inside the loop\n",
    "                if (np.array_equal(centroids[i], prev_centroids[i])) != True:\n",
    "                    optimized = False                 \n",
    "                if optimized != True:  #if false then go inside the loop\n",
    "                    break\n",
    "            if optimized: \n",
    "                break\n",
    "        \n",
    "        self.centroids = centroids\n",
    "\n",
    "\n",
    "\n",
    "clf = Mean_Shift()\n",
    "clf.fit(X)\n",
    "\n",
    "centroids = clf.centroids\n",
    "\n",
    "plt.scatter(X[:,0], X[:,1], s=150)\n",
    "\n",
    "for c in centroids:\n",
    "    plt.scatter(centroids[c][0], centroids[c][1], color='k', marker='*', s=150)\n",
    "\n",
    "plt.show()"
   ]
  },
  {
   "cell_type": "code",
   "execution_count": null,
   "metadata": {},
   "outputs": [],
   "source": []
  }
 ],
 "metadata": {
  "kernelspec": {
   "display_name": "Python 3",
   "language": "python",
   "name": "python3"
  },
  "language_info": {
   "codemirror_mode": {
    "name": "ipython",
    "version": 3
   },
   "file_extension": ".py",
   "mimetype": "text/x-python",
   "name": "python",
   "nbconvert_exporter": "python",
   "pygments_lexer": "ipython3",
   "version": "3.6.4"
  }
 },
 "nbformat": 4,
 "nbformat_minor": 2
}
